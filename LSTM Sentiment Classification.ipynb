{
 "cells": [
  {
   "cell_type": "markdown",
   "id": "685bfa57-4305-4089-ac19-4cd32ab92e37",
   "metadata": {},
   "source": [
    "**<h1>IMPORT LIBRARIES</h1>**"
   ]
  },
  {
   "cell_type": "code",
   "execution_count": 1,
   "id": "18931192-f0d0-4bf4-8cdc-d4dab5835174",
   "metadata": {},
   "outputs": [],
   "source": [
    "import os\n",
    "import re\n",
    "import pickle\n",
    "import pandas as pd\n",
    "import tensorflow as tf\n",
    "import numpy as np\n",
    "import seaborn as sns\n",
    "import matplotlib.pyplot as plt\n",
    "from transformers import BertTokenizer, TFBertModel\n",
    "from tensorflow.keras import regularizers\n",
    "from tensorflow.keras.utils import to_categorical\n",
    "from tensorflow.keras.optimizers import Adam\n",
    "from tensorflow.keras.callbacks import EarlyStopping, ReduceLROnPlateau, ModelCheckpoint\n",
    "from tensorflow.keras.layers import Input, LSTM, Dense, LayerNormalization\n",
    "from tensorflow.keras.models import Model, load_model\n",
    "from sklearn.model_selection import train_test_split\n",
    "from sklearn.metrics import confusion_matrix, classification_report"
   ]
  },
  {
   "cell_type": "markdown",
   "id": "a47bd6ed-9a57-4273-8f09-c6dc57a36f75",
   "metadata": {},
   "source": [
    "**<h1>READ DATASET</h1>**"
   ]
  },
  {
   "cell_type": "code",
   "execution_count": null,
   "id": "b1d8b28b-b8bb-45e8-9302-dd9845e9bbdf",
   "metadata": {},
   "outputs": [],
   "source": [
    "data = pd.read_csv('./resetted_index_cleaned_polarity_roberta.csv', index_col=0)"
   ]
  },
  {
   "cell_type": "code",
   "execution_count": null,
   "id": "c5d8628a-9dad-410a-9b71-dce632a26d67",
   "metadata": {},
   "outputs": [],
   "source": [
    "pos = data[data['sentiment'] == 'positive'].head(312564)\n",
    "neu = data[data['sentiment'] == 'neutral'].head(312564)\n",
    "neg = data[data['sentiment'] == 'negative'].head(312564)\n",
    "df = pd.concat([pos, neu, neg], ignore_index=True)"
   ]
  },
  {
   "cell_type": "code",
   "execution_count": null,
   "id": "e1ff3197-4132-4815-bd9c-71323d45958c",
   "metadata": {},
   "outputs": [],
   "source": [
    "df['sentiment'] = df['sentiment'].replace({'positive': 0, 'negative': 1, 'neutral': 2})\n",
    "df.head()"
   ]
  },
  {
   "cell_type": "markdown",
   "id": "5e9ebff0-c332-445f-b6b4-33ee11ec1ad1",
   "metadata": {},
   "source": [
    "**<h1>SPLIT DATASET</h1>**"
   ]
  },
  {
   "cell_type": "code",
   "execution_count": null,
   "id": "f0b68c62-f2ac-4b78-bf2f-dd3090687979",
   "metadata": {},
   "outputs": [],
   "source": [
    "X = df['cleaned_review'].tolist()\n",
    "for index, value in enumerate(X):\n",
    "    if isinstance(value, float):\n",
    "        X[index] = str(value)"
   ]
  },
  {
   "cell_type": "code",
   "execution_count": null,
   "id": "b6173681-9bf2-48f7-a39f-10dcd114e105",
   "metadata": {},
   "outputs": [],
   "source": [
    "y = to_categorical(df['sentiment'])\n",
    "y = np.array(y)"
   ]
  },
  {
   "cell_type": "code",
   "execution_count": null,
   "id": "d8df98ac-755c-404f-b455-7d6c284197b0",
   "metadata": {},
   "outputs": [],
   "source": [
    "X_train, X_test, y_train, y_test = train_test_split(X, y, test_size=0.3, random_state=0)"
   ]
  },
  {
   "cell_type": "markdown",
   "id": "5d2fc118-1073-49e1-b027-61ccb978a453",
   "metadata": {},
   "source": [
    "**<h1>TOKENIZATION</h1>**"
   ]
  },
  {
   "cell_type": "code",
   "execution_count": 2,
   "id": "1ae99133-553f-4964-9f9c-fb1d5a7e98ec",
   "metadata": {},
   "outputs": [
    {
     "name": "stderr",
     "output_type": "stream",
     "text": [
      "Some weights of the PyTorch model were not used when initializing the TF 2.0 model TFBertModel: ['cls.seq_relationship.weight', 'cls.predictions.transform.LayerNorm.bias', 'cls.predictions.bias', 'cls.predictions.transform.dense.bias', 'cls.seq_relationship.bias', 'cls.predictions.transform.dense.weight', 'cls.predictions.transform.LayerNorm.weight']\n",
      "- This IS expected if you are initializing TFBertModel from a PyTorch model trained on another task or with another architecture (e.g. initializing a TFBertForSequenceClassification model from a BertForPreTraining model).\n",
      "- This IS NOT expected if you are initializing TFBertModel from a PyTorch model that you expect to be exactly identical (e.g. initializing a TFBertForSequenceClassification model from a BertForSequenceClassification model).\n",
      "All the weights of TFBertModel were initialized from the PyTorch model.\n",
      "If your task is similar to the task the model of the checkpoint was trained on, you can already use TFBertModel for predictions without further training.\n"
     ]
    }
   ],
   "source": [
    "model_name = 'bert-base-uncased'\n",
    "tokenizer = BertTokenizer.from_pretrained(model_name)\n",
    "bert_model = TFBertModel.from_pretrained(model_name)"
   ]
  },
  {
   "cell_type": "code",
   "execution_count": 3,
   "id": "25401394-f745-4d7a-ab41-f4706b966f06",
   "metadata": {},
   "outputs": [],
   "source": [
    "shape = 96\n",
    "batch_size = 64"
   ]
  },
  {
   "cell_type": "code",
   "execution_count": null,
   "id": "1494edce-0027-4ae5-b29b-ff3f3e583d78",
   "metadata": {},
   "outputs": [],
   "source": [
    "train_encodings = tokenizer(X_train, padding='max_length', truncation=True, max_length=shape, return_tensors='tf')"
   ]
  },
  {
   "cell_type": "code",
   "execution_count": null,
   "id": "9250928b-7504-432a-82b6-a64c218724fc",
   "metadata": {},
   "outputs": [],
   "source": [
    "test_encodings = tokenizer(X_test, padding='max_length', truncation=True, max_length=shape, return_tensors='tf')"
   ]
  },
  {
   "cell_type": "markdown",
   "id": "aee276bb-f3a0-47e0-8376-b730be74735e",
   "metadata": {},
   "source": [
    "## **LOAD TOKENIZATION**"
   ]
  },
  {
   "cell_type": "code",
   "execution_count": 4,
   "id": "e55eb9eb-7572-4bba-ac4c-1545c1578bd5",
   "metadata": {},
   "outputs": [],
   "source": [
    "save_path_train = './fix/train_encodings/'\n",
    "save_path_test = './fix/test_encodings/'\n",
    "save_path_y_train = './fix/y_train/y_train.tfrecord'\n",
    "save_path_y_test = './fix/y_test/y_test.tfrecord'"
   ]
  },
  {
   "cell_type": "code",
   "execution_count": 5,
   "id": "bdbea79f-5ef5-4b57-9cac-80f4890589da",
   "metadata": {},
   "outputs": [],
   "source": [
    "serialized_tensor_train = tf.io.read_file(save_path_y_train)\n",
    "serialized_tensor_test = tf.io.read_file(save_path_y_test)"
   ]
  },
  {
   "cell_type": "code",
   "execution_count": 6,
   "id": "c2562b0d-5a75-47d6-95b8-fe8078d567dc",
   "metadata": {},
   "outputs": [],
   "source": [
    "loaded_tensor_train = tf.io.parse_tensor(serialized_tensor_train, out_type=tf.float32)\n",
    "loaded_tensor_test = tf.io.parse_tensor(serialized_tensor_test, out_type=tf.float32)"
   ]
  },
  {
   "cell_type": "code",
   "execution_count": 7,
   "id": "47a20bff-632f-4a3e-bf0a-17acdb5c7b21",
   "metadata": {},
   "outputs": [],
   "source": [
    "loaded_y_train = loaded_tensor_train.numpy()\n",
    "loaded_y_test = loaded_tensor_test.numpy()"
   ]
  },
  {
   "cell_type": "code",
   "execution_count": 8,
   "id": "e4586b40-e108-4990-89ef-a946da0cdee8",
   "metadata": {},
   "outputs": [],
   "source": [
    "loaded_train_encodings = {}\n",
    "for key in ['input_ids', 'attention_mask', 'token_type_ids']:\n",
    "    tensor = tf.io.read_file(f\"{save_path_train}/{key}.tfrecord\")\n",
    "    loaded_train_encodings[key] = tf.io.parse_tensor(tensor, out_type=tf.int32)"
   ]
  },
  {
   "cell_type": "code",
   "execution_count": 9,
   "id": "d821c838-d0eb-4b3f-bf0c-68baca12062d",
   "metadata": {},
   "outputs": [],
   "source": [
    "loaded_test_encodings = {}\n",
    "for key in ['input_ids', 'attention_mask', 'token_type_ids']:\n",
    "    tensor = tf.io.read_file(f\"{save_path_test}/{key}.tfrecord\")\n",
    "    loaded_test_encodings[key] = tf.io.parse_tensor(tensor, out_type=tf.int32)"
   ]
  },
  {
   "cell_type": "markdown",
   "id": "6d74dc0e-8b9a-46fe-b6c8-b1d36b6ddbab",
   "metadata": {},
   "source": [
    "**<h1>CONVERT TO TENSORFLOW DATASET</h1>**"
   ]
  },
  {
   "cell_type": "code",
   "execution_count": 10,
   "id": "b3dc6240-fa56-4adc-8fca-a5240e8340ff",
   "metadata": {},
   "outputs": [],
   "source": [
    "def create_tf_dataset(encodings, labels):\n",
    "    return tf.data.Dataset.from_tensor_slices((\n",
    "        {\n",
    "            'input_ids': encodings['input_ids'],\n",
    "            'attention_mask': encodings['attention_mask']\n",
    "        },\n",
    "        tf.constant(labels)\n",
    "    )).batch(batch_size, drop_remainder=True)"
   ]
  },
  {
   "cell_type": "code",
   "execution_count": 11,
   "id": "1cf54e97-2bcf-40ce-997e-081c89411a9f",
   "metadata": {},
   "outputs": [],
   "source": [
    "train_tf_dataset = create_tf_dataset(loaded_train_encodings, loaded_y_train)\n",
    "test_tf_dataset = create_tf_dataset(loaded_test_encodings, loaded_y_test)"
   ]
  },
  {
   "cell_type": "markdown",
   "id": "210983c5-1713-400d-afc6-1a3a9a1babd6",
   "metadata": {},
   "source": [
    "**<h1>LSTM MODEL</h1>**"
   ]
  },
  {
   "cell_type": "code",
   "execution_count": 12,
   "id": "b2a52045-8bf7-4cc8-838d-c090944b984a",
   "metadata": {},
   "outputs": [],
   "source": [
    "bert_model.trainable = False"
   ]
  },
  {
   "cell_type": "code",
   "execution_count": 13,
   "id": "0be5e73c-6266-4d82-bd40-2f21def7a2c0",
   "metadata": {},
   "outputs": [],
   "source": [
    "input_ids = Input(shape=(shape,), dtype=tf.int32, name='input_ids')\n",
    "attention_mask = Input(shape=(shape,), dtype=tf.int32, name='attention_mask')"
   ]
  },
  {
   "cell_type": "code",
   "execution_count": 14,
   "id": "04c1a523-26a0-42a8-a0e8-c1553d969612",
   "metadata": {},
   "outputs": [],
   "source": [
    "bert_output = bert_model(input_ids, attention_mask=attention_mask)[0]"
   ]
  },
  {
   "cell_type": "code",
   "execution_count": 15,
   "id": "4accbb9f-b5a2-49cf-9415-db80231a8753",
   "metadata": {},
   "outputs": [],
   "source": [
    "lstm_layer_1 = LSTM(256, input_shape=(shape, 768), return_sequences=True, dropout=0.0, recurrent_dropout=0.0, kernel_regularizer=regularizers.l2(0.001), recurrent_regularizer=regularizers.l2(0.001))(bert_output)\n",
    "layer_normalization_1 = LayerNormalization()(lstm_layer_1)\n",
    "\n",
    "lstm_layer_2 = LSTM(256, return_sequences=True, dropout=0.0, recurrent_dropout=0.0, kernel_regularizer=regularizers.l2(0.001), recurrent_regularizer=regularizers.l2(0.001))(layer_normalization_1)\n",
    "layer_normalization_2 = LayerNormalization()(lstm_layer_2)\n",
    "\n",
    "lstm_layer_3 = LSTM(256, return_sequences=False, dropout=0.0, recurrent_dropout=0.0, kernel_regularizer=regularizers.l2(0.001), recurrent_regularizer=regularizers.l2(0.001))(layer_normalization_2)\n",
    "\n",
    "output = Dense(3, activation='softmax')(lstm_layer_3)"
   ]
  },
  {
   "cell_type": "markdown",
   "id": "84776c29-e92e-4a0b-84b0-06899d03c23a",
   "metadata": {},
   "source": [
    "**<h1>TRAIN MODEL</h1>**"
   ]
  },
  {
   "cell_type": "code",
   "execution_count": 16,
   "id": "50a757b5-aac4-4a79-ba78-2e7f5ad67366",
   "metadata": {},
   "outputs": [],
   "source": [
    "model = Model(inputs=[input_ids, attention_mask], outputs=output)"
   ]
  },
  {
   "cell_type": "code",
   "execution_count": 17,
   "id": "030134af-38f9-48cf-8e5b-04283546964e",
   "metadata": {},
   "outputs": [],
   "source": [
    "model.compile(optimizer=Adam(learning_rate=1e-5), loss='categorical_crossentropy', metrics=['accuracy'])"
   ]
  },
  {
   "cell_type": "code",
   "execution_count": 18,
   "id": "a91b6b69-c407-4d19-a4bf-23281600cdbc",
   "metadata": {},
   "outputs": [],
   "source": [
    "early_stopping = EarlyStopping(monitor='val_loss', patience=5, restore_best_weights=True)\n",
    "reduce_lr = ReduceLROnPlateau(monitor='val_loss', factor=0.2, patience=2, min_lr=1e-2)\n",
    "checkpoint = ModelCheckpoint('./fix/lstm_alone.keras', save_best_only=True, monitor='val_loss', mode='min')"
   ]
  },
  {
   "cell_type": "code",
   "execution_count": 19,
   "id": "6a497047-4a1f-4244-a96f-c78a1abfecdd",
   "metadata": {},
   "outputs": [
    {
     "name": "stdout",
     "output_type": "stream",
     "text": [
      "Epoch 1/50\n",
      "10256/10256 [==============================] - 3269s 318ms/step - loss: 2.5630 - accuracy: 0.6728 - val_loss: 2.0608 - val_accuracy: 0.7129 - lr: 1.0000e-05\n",
      "Epoch 2/50\n",
      "10256/10256 [==============================] - 3255s 317ms/step - loss: 1.8444 - accuracy: 0.7054 - val_loss: 1.6103 - val_accuracy: 0.7291 - lr: 1.0000e-05\n",
      "Epoch 3/50\n",
      "10256/10256 [==============================] - 3263s 318ms/step - loss: 1.5084 - accuracy: 0.7172 - val_loss: 1.3566 - val_accuracy: 0.7395 - lr: 1.0000e-05\n",
      "Epoch 4/50\n",
      "10256/10256 [==============================] - 3250s 317ms/step - loss: 1.3053 - accuracy: 0.7270 - val_loss: 1.1933 - val_accuracy: 0.7485 - lr: 1.0000e-05\n",
      "Epoch 5/50\n",
      "10256/10256 [==============================] - 3255s 317ms/step - loss: 1.1702 - accuracy: 0.7346 - val_loss: 1.0803 - val_accuracy: 0.7565 - lr: 1.0000e-05\n",
      "Epoch 6/50\n",
      "10256/10256 [==============================] - 3254s 317ms/step - loss: 1.0734 - accuracy: 0.7424 - val_loss: 0.9983 - val_accuracy: 0.7635 - lr: 1.0000e-05\n",
      "Epoch 7/50\n",
      "10256/10256 [==============================] - 3253s 317ms/step - loss: 1.0021 - accuracy: 0.7486 - val_loss: 0.9378 - val_accuracy: 0.7688 - lr: 1.0000e-05\n",
      "Epoch 8/50\n",
      "10256/10256 [==============================] - 3254s 317ms/step - loss: 0.9483 - accuracy: 0.7530 - val_loss: 0.8889 - val_accuracy: 0.7726 - lr: 1.0000e-05\n",
      "Epoch 9/50\n",
      "10256/10256 [==============================] - 3255s 317ms/step - loss: 0.9044 - accuracy: 0.7569 - val_loss: 0.8505 - val_accuracy: 0.7754 - lr: 1.0000e-05\n",
      "Epoch 10/50\n",
      "10256/10256 [==============================] - 3255s 317ms/step - loss: 0.8695 - accuracy: 0.7601 - val_loss: 0.8183 - val_accuracy: 0.7786 - lr: 1.0000e-05\n",
      "Epoch 11/50\n",
      "10256/10256 [==============================] - 3262s 318ms/step - loss: 0.8401 - accuracy: 0.7631 - val_loss: 0.7945 - val_accuracy: 0.7798 - lr: 1.0000e-05\n",
      "Epoch 12/50\n",
      "10256/10256 [==============================] - 3255s 317ms/step - loss: 0.8151 - accuracy: 0.7663 - val_loss: 0.7694 - val_accuracy: 0.7825 - lr: 1.0000e-05\n",
      "Epoch 13/50\n",
      "10256/10256 [==============================] - 3255s 317ms/step - loss: 0.7938 - accuracy: 0.7676 - val_loss: 0.7488 - val_accuracy: 0.7851 - lr: 1.0000e-05\n",
      "Epoch 14/50\n",
      "10256/10256 [==============================] - 3256s 317ms/step - loss: 0.7738 - accuracy: 0.7699 - val_loss: 0.7400 - val_accuracy: 0.7835 - lr: 1.0000e-05\n",
      "Epoch 15/50\n",
      "10256/10256 [==============================] - 3255s 317ms/step - loss: 0.7577 - accuracy: 0.7718 - val_loss: 0.7212 - val_accuracy: 0.7855 - lr: 1.0000e-05\n",
      "Epoch 16/50\n",
      "10256/10256 [==============================] - 3260s 318ms/step - loss: 0.7427 - accuracy: 0.7742 - val_loss: 0.7050 - val_accuracy: 0.7886 - lr: 1.0000e-05\n",
      "Epoch 17/50\n",
      "10256/10256 [==============================] - 3269s 319ms/step - loss: 0.7286 - accuracy: 0.7760 - val_loss: 0.6919 - val_accuracy: 0.7905 - lr: 1.0000e-05\n",
      "Epoch 18/50\n",
      "10256/10256 [==============================] - 3267s 319ms/step - loss: 0.7169 - accuracy: 0.7769 - val_loss: 0.6861 - val_accuracy: 0.7884 - lr: 1.0000e-05\n",
      "Epoch 19/50\n",
      "10256/10256 [==============================] - 3257s 318ms/step - loss: 0.7049 - accuracy: 0.7789 - val_loss: 0.6746 - val_accuracy: 0.7916 - lr: 1.0000e-05\n",
      "Epoch 20/50\n",
      "10256/10256 [==============================] - 3258s 318ms/step - loss: 0.6948 - accuracy: 0.7805 - val_loss: 0.6663 - val_accuracy: 0.7918 - lr: 1.0000e-05\n",
      "Epoch 21/50\n",
      "10256/10256 [==============================] - 3277s 320ms/step - loss: 0.6855 - accuracy: 0.7817 - val_loss: 0.6567 - val_accuracy: 0.7943 - lr: 1.0000e-05\n",
      "Epoch 22/50\n",
      "10256/10256 [==============================] - 3283s 320ms/step - loss: 0.6772 - accuracy: 0.7827 - val_loss: 0.6482 - val_accuracy: 0.7944 - lr: 1.0000e-05\n",
      "Epoch 23/50\n",
      "10256/10256 [==============================] - 3270s 319ms/step - loss: 0.6678 - accuracy: 0.7845 - val_loss: 0.6418 - val_accuracy: 0.7952 - lr: 1.0000e-05\n",
      "Epoch 24/50\n",
      "10256/10256 [==============================] - 3271s 319ms/step - loss: 0.6609 - accuracy: 0.7857 - val_loss: 0.6412 - val_accuracy: 0.7923 - lr: 1.0000e-05\n",
      "Epoch 25/50\n",
      "10256/10256 [==============================] - 3271s 319ms/step - loss: 0.6534 - accuracy: 0.7867 - val_loss: 0.6306 - val_accuracy: 0.7959 - lr: 1.0000e-05\n",
      "Epoch 26/50\n",
      "10256/10256 [==============================] - 3271s 319ms/step - loss: 0.6469 - accuracy: 0.7883 - val_loss: 0.6260 - val_accuracy: 0.7963 - lr: 1.0000e-05\n",
      "Epoch 27/50\n",
      "10256/10256 [==============================] - 3268s 319ms/step - loss: 0.6412 - accuracy: 0.7893 - val_loss: 0.6199 - val_accuracy: 0.7980 - lr: 1.0000e-05\n",
      "Epoch 28/50\n",
      "10256/10256 [==============================] - 3271s 319ms/step - loss: 0.6348 - accuracy: 0.7905 - val_loss: 0.6182 - val_accuracy: 0.7962 - lr: 1.0000e-05\n",
      "Epoch 29/50\n",
      "10256/10256 [==============================] - 3268s 319ms/step - loss: 0.6297 - accuracy: 0.7915 - val_loss: 0.6115 - val_accuracy: 0.7987 - lr: 1.0000e-05\n",
      "Epoch 30/50\n",
      "10256/10256 [==============================] - 3270s 319ms/step - loss: 0.6246 - accuracy: 0.7917 - val_loss: 0.6079 - val_accuracy: 0.7991 - lr: 1.0000e-05\n",
      "Epoch 31/50\n",
      "10256/10256 [==============================] - 3259s 318ms/step - loss: 0.6190 - accuracy: 0.7930 - val_loss: 0.6135 - val_accuracy: 0.7954 - lr: 1.0000e-05\n",
      "Epoch 32/50\n",
      "10256/10256 [==============================] - 3267s 319ms/step - loss: 0.6146 - accuracy: 0.7940 - val_loss: 0.6039 - val_accuracy: 0.7980 - lr: 1.0000e-05\n",
      "Epoch 33/50\n",
      "10256/10256 [==============================] - 3258s 318ms/step - loss: 0.6097 - accuracy: 0.7954 - val_loss: 0.6058 - val_accuracy: 0.7976 - lr: 1.0000e-05\n",
      "Epoch 34/50\n",
      "10256/10256 [==============================] - 3259s 318ms/step - loss: 0.6045 - accuracy: 0.7967 - val_loss: 0.5923 - val_accuracy: 0.8026 - lr: 1.0000e-05\n",
      "Epoch 35/50\n",
      "10256/10256 [==============================] - 3257s 318ms/step - loss: 0.6014 - accuracy: 0.7968 - val_loss: 0.5958 - val_accuracy: 0.8002 - lr: 1.0000e-05\n",
      "Epoch 36/50\n",
      "10256/10256 [==============================] - 3260s 318ms/step - loss: 0.5981 - accuracy: 0.7982 - val_loss: 0.5895 - val_accuracy: 0.8009 - lr: 1.0000e-05\n",
      "Epoch 37/50\n",
      "10256/10256 [==============================] - 3252s 317ms/step - loss: 0.5934 - accuracy: 0.7989 - val_loss: 0.5961 - val_accuracy: 0.7982 - lr: 1.0000e-05\n",
      "Epoch 38/50\n",
      "10256/10256 [==============================] - 3253s 317ms/step - loss: 0.5895 - accuracy: 0.8006 - val_loss: 0.5922 - val_accuracy: 0.7997 - lr: 1.0000e-05\n",
      "Epoch 39/50\n",
      "10256/10256 [==============================] - 3260s 318ms/step - loss: 0.5863 - accuracy: 0.8007 - val_loss: 0.5750 - val_accuracy: 0.8052 - lr: 1.0000e-05\n",
      "Epoch 40/50\n",
      "10256/10256 [==============================] - 3252s 317ms/step - loss: 0.5837 - accuracy: 0.8011 - val_loss: 0.5790 - val_accuracy: 0.8032 - lr: 1.0000e-05\n",
      "Epoch 41/50\n",
      "10256/10256 [==============================] - 3251s 317ms/step - loss: 0.5797 - accuracy: 0.8026 - val_loss: 0.5849 - val_accuracy: 0.8012 - lr: 1.0000e-05\n",
      "Epoch 42/50\n",
      "10256/10256 [==============================] - 3253s 317ms/step - loss: 0.5772 - accuracy: 0.8027 - val_loss: 0.5776 - val_accuracy: 0.8030 - lr: 1.0000e-05\n",
      "Epoch 43/50\n",
      "10256/10256 [==============================] - 3267s 319ms/step - loss: 0.5726 - accuracy: 0.8042 - val_loss: 0.5736 - val_accuracy: 0.8038 - lr: 1.0000e-05\n",
      "Epoch 44/50\n",
      "10256/10256 [==============================] - 3278s 320ms/step - loss: 0.5708 - accuracy: 0.8050 - val_loss: 0.5687 - val_accuracy: 0.8061 - lr: 1.0000e-05\n",
      "Epoch 45/50\n",
      "10256/10256 [==============================] - 3282s 320ms/step - loss: 0.5679 - accuracy: 0.8057 - val_loss: 0.5724 - val_accuracy: 0.8042 - lr: 1.0000e-05\n",
      "Epoch 46/50\n",
      "10256/10256 [==============================] - 3279s 320ms/step - loss: 0.5646 - accuracy: 0.8063 - val_loss: 0.5622 - val_accuracy: 0.8069 - lr: 1.0000e-05\n",
      "Epoch 47/50\n",
      "10256/10256 [==============================] - 3270s 319ms/step - loss: 0.5625 - accuracy: 0.8069 - val_loss: 0.5645 - val_accuracy: 0.8052 - lr: 1.0000e-05\n",
      "Epoch 48/50\n",
      "10256/10256 [==============================] - 3296s 321ms/step - loss: 0.5594 - accuracy: 0.8074 - val_loss: 0.5594 - val_accuracy: 0.8076 - lr: 1.0000e-05\n",
      "Epoch 49/50\n",
      "10256/10256 [==============================] - 3293s 321ms/step - loss: 0.5571 - accuracy: 0.8078 - val_loss: 0.5626 - val_accuracy: 0.8057 - lr: 1.0000e-05\n",
      "Epoch 50/50\n",
      "10256/10256 [==============================] - 3277s 320ms/step - loss: 0.5558 - accuracy: 0.8087 - val_loss: 0.5587 - val_accuracy: 0.8084 - lr: 1.0000e-05\n"
     ]
    }
   ],
   "source": [
    "history = model.fit(train_tf_dataset, epochs=50, validation_data=(test_tf_dataset), callbacks=[checkpoint, early_stopping, reduce_lr])"
   ]
  },
  {
   "cell_type": "code",
   "execution_count": 20,
   "id": "78d36fa5-93b3-4832-82fb-c13f8daa1c90",
   "metadata": {},
   "outputs": [
    {
     "name": "stdout",
     "output_type": "stream",
     "text": [
      "Model: \"model\"\n",
      "__________________________________________________________________________________________________\n",
      " Layer (type)                   Output Shape         Param #     Connected to                     \n",
      "==================================================================================================\n",
      " input_ids (InputLayer)         [(None, 96)]         0           []                               \n",
      "                                                                                                  \n",
      " attention_mask (InputLayer)    [(None, 96)]         0           []                               \n",
      "                                                                                                  \n",
      " tf_bert_model (TFBertModel)    TFBaseModelOutputWi  109482240   ['input_ids[0][0]',              \n",
      "                                thPoolingAndCrossAt               'attention_mask[0][0]']         \n",
      "                                tentions(last_hidde                                               \n",
      "                                n_state=(None, 96,                                                \n",
      "                                768),                                                             \n",
      "                                 pooler_output=(Non                                               \n",
      "                                e, 768),                                                          \n",
      "                                 past_key_values=No                                               \n",
      "                                ne, hidden_states=N                                               \n",
      "                                one, attentions=Non                                               \n",
      "                                e, cross_attentions                                               \n",
      "                                =None)                                                            \n",
      "                                                                                                  \n",
      " lstm (LSTM)                    (None, 96, 256)      1049600     ['tf_bert_model[0][0]']          \n",
      "                                                                                                  \n",
      " layer_normalization (LayerNorm  (None, 96, 256)     512         ['lstm[0][0]']                   \n",
      " alization)                                                                                       \n",
      "                                                                                                  \n",
      " lstm_1 (LSTM)                  (None, 96, 256)      525312      ['layer_normalization[0][0]']    \n",
      "                                                                                                  \n",
      " layer_normalization_1 (LayerNo  (None, 96, 256)     512         ['lstm_1[0][0]']                 \n",
      " rmalization)                                                                                     \n",
      "                                                                                                  \n",
      " lstm_2 (LSTM)                  (None, 256)          525312      ['layer_normalization_1[0][0]']  \n",
      "                                                                                                  \n",
      " dense (Dense)                  (None, 3)            771         ['lstm_2[0][0]']                 \n",
      "                                                                                                  \n",
      "==================================================================================================\n",
      "Total params: 111,584,259\n",
      "Trainable params: 2,102,019\n",
      "Non-trainable params: 109,482,240\n",
      "__________________________________________________________________________________________________\n"
     ]
    }
   ],
   "source": [
    "model.summary()"
   ]
  },
  {
   "cell_type": "markdown",
   "id": "9390e08e-9075-4090-af93-7fe7a8627ab0",
   "metadata": {},
   "source": [
    "**<h1>HISTORY LOG</h1>**"
   ]
  },
  {
   "cell_type": "code",
   "execution_count": 21,
   "id": "cbd09880-fea5-40fc-8f5a-93e670ac4c50",
   "metadata": {},
   "outputs": [],
   "source": [
    "with open('./fix/lstm_alone.pkl', 'wb') as file_pi:\n",
    "    pickle.dump(history.history, file_pi)"
   ]
  },
  {
   "cell_type": "code",
   "execution_count": 22,
   "id": "25ea6e7d-10f0-4e2d-91df-d1fb54ffa397",
   "metadata": {},
   "outputs": [
    {
     "data": {
      "image/png": "[encoded data removed]",
      "text/plain": [
       "<Figure size 1200x400 with 2 Axes>"
      ]
     },
     "metadata": {},
     "output_type": "display_data"
    }
   ],
   "source": [
    "def plot_training_history(history):\n",
    "    # Plot training & validation accuracy values\n",
    "    plt.figure(figsize=(12, 4))\n",
    "\n",
    "    plt.subplot(1, 2, 1)\n",
    "    plt.plot(history.history['accuracy'])\n",
    "    plt.plot(history.history['val_accuracy'])\n",
    "    plt.title('Model Accuracy Batch Size 64')\n",
    "    plt.ylabel('Accuracy')\n",
    "    plt.xlabel('Epoch')\n",
    "    plt.legend(['Train', 'Validation'], loc='upper left')\n",
    "\n",
    "    # Plot training & validation loss values\n",
    "    plt.subplot(1, 2, 2)\n",
    "    plt.plot(history.history['loss'])\n",
    "    plt.plot(history.history['val_loss'])\n",
    "    plt.title('Model Loss Batch Size 64')\n",
    "    plt.ylabel('Loss')\n",
    "    plt.xlabel('Epoch')\n",
    "    plt.legend(['Train', 'Validation'], loc='upper left')\n",
    "\n",
    "    plt.show()\n",
    "\n",
    "plot_training_history(history)"
   ]
  },
  {
   "cell_type": "markdown",
   "id": "c06c6db4-ed77-4a44-8634-fc8f4063f1eb",
   "metadata": {},
   "source": [
    "**<h1>LOAD MODEL</h1>**"
   ]
  },
  {
   "cell_type": "code",
   "execution_count": 37,
   "id": "418f5756-2bfc-4b42-81ae-56712adc1da6",
   "metadata": {},
   "outputs": [],
   "source": [
    "custom_objects = {'TFBertModel': TFBertModel}\n",
    "loaded_model = load_model('./fix/lstm_alone.keras', custom_objects=custom_objects, compile=False)\n",
    "optimizer = Adam(1e-5)\n",
    "loaded_model.compile(optimizer=optimizer, loss='categorical_crossentropy', metrics=['accuracy'])"
   ]
  },
  {
   "cell_type": "code",
   "execution_count": 30,
   "id": "b92389dd-a942-4523-a03c-b76c1e8d005b",
   "metadata": {},
   "outputs": [
    {
     "name": "stdout",
     "output_type": "stream",
     "text": [
      "Model: \"model\"\n",
      "__________________________________________________________________________________________________\n",
      " Layer (type)                   Output Shape         Param #     Connected to                     \n",
      "==================================================================================================\n",
      " input_ids (InputLayer)         [(None, 96)]         0           []                               \n",
      "                                                                                                  \n",
      " attention_mask (InputLayer)    [(None, 96)]         0           []                               \n",
      "                                                                                                  \n",
      " tf_bert_model_5 (TFBertModel)  TFBaseModelOutputWi  109482240   ['input_ids[0][0]',              \n",
      "                                thPoolingAndCrossAt               'attention_mask[0][0]']         \n",
      "                                tentions(last_hidde                                               \n",
      "                                n_state=(None, 96,                                                \n",
      "                                768),                                                             \n",
      "                                 pooler_output=(Non                                               \n",
      "                                e, 768),                                                          \n",
      "                                 past_key_values=No                                               \n",
      "                                ne, hidden_states=N                                               \n",
      "                                one, attentions=Non                                               \n",
      "                                e, cross_attentions                                               \n",
      "                                =None)                                                            \n",
      "                                                                                                  \n",
      " lstm (LSTM)                    (None, 96, 256)      1049600     ['tf_bert_model_5[0][0]']        \n",
      "                                                                                                  \n",
      " layer_normalization (LayerNorm  (None, 96, 256)     512         ['lstm[0][0]']                   \n",
      " alization)                                                                                       \n",
      "                                                                                                  \n",
      " lstm_1 (LSTM)                  (None, 96, 256)      525312      ['layer_normalization[0][0]']    \n",
      "                                                                                                  \n",
      " layer_normalization_1 (LayerNo  (None, 96, 256)     512         ['lstm_1[0][0]']                 \n",
      " rmalization)                                                                                     \n",
      "                                                                                                  \n",
      " lstm_2 (LSTM)                  (None, 256)          525312      ['layer_normalization_1[0][0]']  \n",
      "                                                                                                  \n",
      " dense (Dense)                  (None, 3)            771         ['lstm_2[0][0]']                 \n",
      "                                                                                                  \n",
      "==================================================================================================\n",
      "Total params: 111,584,259\n",
      "Trainable params: 111,584,259\n",
      "Non-trainable params: 0\n",
      "__________________________________________________________________________________________________\n"
     ]
    }
   ],
   "source": [
    "loaded_model.summary()"
   ]
  },
  {
   "cell_type": "markdown",
   "id": "4fdc58ff-78b7-4d49-b287-76c7275a816e",
   "metadata": {},
   "source": [
    "**<h1>VALIDATION</h1>**"
   ]
  },
  {
   "cell_type": "code",
   "execution_count": 31,
   "id": "b540c97f-b7c7-468d-bae7-7050d49717e7",
   "metadata": {},
   "outputs": [
    {
     "name": "stdout",
     "output_type": "stream",
     "text": [
      "4395/4395 [==============================] - 865s 196ms/step\n"
     ]
    }
   ],
   "source": [
    "y_pred_prob = loaded_model.predict(test_tf_dataset)\n",
    "y_pred = np.argmax(y_pred_prob, axis=1)"
   ]
  },
  {
   "cell_type": "code",
   "execution_count": 32,
   "id": "e5c39417-5c2a-4b96-8d63-69170da469eb",
   "metadata": {},
   "outputs": [],
   "source": [
    "y_true = np.concatenate([y for x, y in test_tf_dataset], axis=0)\n",
    "y_true = np.argmax(y_true, axis=1)"
   ]
  },
  {
   "cell_type": "code",
   "execution_count": 33,
   "id": "069162ad-cd8a-448b-aac0-9d468f6a033f",
   "metadata": {},
   "outputs": [],
   "source": [
    "conf_matrix = confusion_matrix(y_true, y_pred)"
   ]
  },
  {
   "cell_type": "code",
   "execution_count": 34,
   "id": "08a6fd28-15ff-4977-b072-e881237f87ea",
   "metadata": {},
   "outputs": [
    {
     "data": {
      "image/png": "[encoded data removed]",
      "text/plain": [
       "<Figure size 1000x700 with 2 Axes>"
      ]
     },
     "metadata": {},
     "output_type": "display_data"
    }
   ],
   "source": [
    "plt.figure(figsize=(10, 7))\n",
    "sns.heatmap(conf_matrix, annot=True, fmt='d', cmap='Blues', xticklabels=['Positive', 'Negative', 'Neutral'], yticklabels=['Positive', 'Negative', 'Neutral'])\n",
    "plt.xlabel('Predicted', fontsize=14, fontweight='bold')\n",
    "plt.ylabel('Actual', fontsize=14, fontweight='bold')\n",
    "plt.title('Confusion Matrix', fontsize=16, fontweight='bold')\n",
    "plt.show()"
   ]
  },
  {
   "cell_type": "code",
   "execution_count": 35,
   "id": "910232cc-95d2-4b3e-a492-e26b49c99534",
   "metadata": {},
   "outputs": [
    {
     "name": "stdout",
     "output_type": "stream",
     "text": [
      "              precision    recall  f1-score   support\n",
      "\n",
      "    Positive       0.84      0.88      0.86     93727\n",
      "    Negative       0.84      0.84      0.84     93579\n",
      "     Neutral       0.74      0.70      0.72     93974\n",
      "\n",
      "    accuracy                           0.81    281280\n",
      "   macro avg       0.81      0.81      0.81    281280\n",
      "weighted avg       0.81      0.81      0.81    281280\n",
      "\n"
     ]
    }
   ],
   "source": [
    "print(classification_report(y_true, y_pred, target_names=['Positive', 'Negative', 'Neutral']))"
   ]
  },
  {
   "cell_type": "code",
   "execution_count": null,
   "id": "ff9aeb6a-f938-4937-ba02-2721e9b8f71e",
   "metadata": {},
   "outputs": [],
   "source": []
  }
 ],
 "metadata": {
  "kernelspec": {
   "display_name": "Python 3 (ipykernel)",
   "language": "python",
   "name": "python3"
  },
  "language_info": {
   "codemirror_mode": {
    "name": "ipython",
    "version": 3
   },
   "file_extension": ".py",
   "mimetype": "text/x-python",
   "name": "python",
   "nbconvert_exporter": "python",
   "pygments_lexer": "ipython3",
   "version": "3.10.14"
  }
 },
 "nbformat": 4,
 "nbformat_minor": 5
}
